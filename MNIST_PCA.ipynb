{
  "nbformat": 4,
  "nbformat_minor": 0,
  "metadata": {
    "kernelspec": {
      "display_name": "Python 3",
      "language": "python",
      "name": "python3"
    },
    "language_info": {
      "codemirror_mode": {
        "name": "ipython",
        "version": 3
      },
      "file_extension": ".py",
      "mimetype": "text/x-python",
      "name": "python",
      "nbconvert_exporter": "python",
      "pygments_lexer": "ipython3",
      "version": "3.6.8"
    },
    "colab": {
      "name": "MNIST-PCA.ipynb",
      "provenance": [],
      "include_colab_link": true
    }
  },
  "cells": [
    {
      "cell_type": "markdown",
      "metadata": {
        "id": "view-in-github",
        "colab_type": "text"
      },
      "source": [
        "<a href=\"https://colab.research.google.com/github/DKapoor-Qual/DeepLearning/blob/main/MNIST_PCA.ipynb\" target=\"_parent\"><img src=\"https://colab.research.google.com/assets/colab-badge.svg\" alt=\"Open In Colab\"/></a>"
      ]
    },
    {
      "cell_type": "markdown",
      "metadata": {
        "id": "ytWZG5tjAvqM"
      },
      "source": [
        "## MNIST Dataset\n"
      ]
    },
    {
      "cell_type": "markdown",
      "metadata": {
        "id": "gEZHqNveAvqd"
      },
      "source": [
        "### Loading MNIST Dataset"
      ]
    },
    {
      "cell_type": "code",
      "metadata": {
        "id": "mrBgxt-bAvqi"
      },
      "source": [
        "import numpy as np\n",
        "import pandas as pd\n",
        "import matplotlib.pyplot as plt\n"
      ],
      "execution_count": 1,
      "outputs": []
    },
    {
      "cell_type": "code",
      "metadata": {
        "colab": {
          "base_uri": "https://localhost:8080/"
        },
        "id": "ll3XdBbfA-si",
        "outputId": "3de8f703-45ef-46be-9685-048a59c9441b"
      },
      "source": [
        "from google.colab import drive\n",
        "drive.mount('/content/drive')"
      ],
      "execution_count": 2,
      "outputs": [
        {
          "output_type": "stream",
          "name": "stdout",
          "text": [
            "Mounted at /content/drive\n"
          ]
        }
      ]
    },
    {
      "cell_type": "code",
      "metadata": {
        "id": "Lg0JG3JWAvqn",
        "colab": {
          "base_uri": "https://localhost:8080/"
        },
        "outputId": "13e426e3-8e52-4269-efbc-dacdc5bfcc9a"
      },
      "source": [
        "d0 = pd.read_csv('/content/drive/MyDrive/Colab Notebooks/train.csv') \n",
        "\n",
        "print(d0.head(5)) # print first five rows of d0.\n",
        "\n",
        "# Loading the labels into a variable l. Labels in the dataset are numbers in the range [0,9]\n",
        "l = d0['label']\n",
        "\n",
        "# Drop the label feature and load the pixel data in d.\n",
        "d = d0.drop(\"label\",axis=1)\n"
      ],
      "execution_count": 3,
      "outputs": [
        {
          "output_type": "stream",
          "name": "stdout",
          "text": [
            "   label  pixel0  pixel1  pixel2  ...  pixel780  pixel781  pixel782  pixel783\n",
            "0      1       0       0       0  ...         0         0         0         0\n",
            "1      0       0       0       0  ...         0         0         0         0\n",
            "2      1       0       0       0  ...         0         0         0         0\n",
            "3      4       0       0       0  ...         0         0         0         0\n",
            "4      0       0       0       0  ...         0         0         0         0\n",
            "\n",
            "[5 rows x 785 columns]\n"
          ]
        }
      ]
    },
    {
      "cell_type": "code",
      "metadata": {
        "id": "wfRyFzq9Avqr",
        "colab": {
          "base_uri": "https://localhost:8080/"
        },
        "outputId": "bb1c5470-0a74-4733-f7fd-13c43d1a5fd8"
      },
      "source": [
        "print(l.head(10))"
      ],
      "execution_count": 4,
      "outputs": [
        {
          "output_type": "stream",
          "name": "stdout",
          "text": [
            "0    1\n",
            "1    0\n",
            "2    1\n",
            "3    4\n",
            "4    0\n",
            "5    0\n",
            "6    7\n",
            "7    3\n",
            "8    5\n",
            "9    3\n",
            "Name: label, dtype: int64\n"
          ]
        }
      ]
    },
    {
      "cell_type": "code",
      "metadata": {
        "id": "O1nJufzZAvqu",
        "colab": {
          "base_uri": "https://localhost:8080/"
        },
        "outputId": "e22feefa-e4d6-4ef6-8763-58e24991ec81"
      },
      "source": [
        "print(\"Dimenesions of dataset:\" , d.shape)\n",
        "print(\"Number of datapoints:\",d.shape[0])\n",
        "print(\"Number of pixels for one image:\", d.shape[1])"
      ],
      "execution_count": 5,
      "outputs": [
        {
          "output_type": "stream",
          "name": "stdout",
          "text": [
            "Dimenesions of dataset: (42000, 784)\n",
            "Number of datapoints: 42000\n",
            "Number of pixels for one image: 784\n"
          ]
        }
      ]
    },
    {
      "cell_type": "code",
      "metadata": {
        "id": "lJksj9PLAvqx",
        "colab": {
          "base_uri": "https://localhost:8080/"
        },
        "outputId": "ac09031a-198d-4553-82ef-c31d202f105f"
      },
      "source": [
        "print(\"Dimenesions of label column:\" , l.shape)"
      ],
      "execution_count": 6,
      "outputs": [
        {
          "output_type": "stream",
          "name": "stdout",
          "text": [
            "Dimenesions of label column: (42000,)\n"
          ]
        }
      ]
    },
    {
      "cell_type": "markdown",
      "metadata": {
        "id": "BY__XnJQAvq0"
      },
      "source": [
        "### Visualising a sample row and verifying it with label value"
      ]
    },
    {
      "cell_type": "code",
      "metadata": {
        "id": "GhDkmhRYAvq6",
        "colab": {
          "base_uri": "https://localhost:8080/",
          "height": 162
        },
        "outputId": "10540fd9-1d2e-4ce1-ea89-fcee7eca8884"
      },
      "source": [
        "print(\"Number in the {}th row :\" .format (idx ) , l[idx] )"
      ],
      "execution_count": 7,
      "outputs": [
        {
          "output_type": "error",
          "ename": "NameError",
          "evalue": "ignored",
          "traceback": [
            "\u001b[0;31m---------------------------------------------------------------------------\u001b[0m",
            "\u001b[0;31mNameError\u001b[0m                                 Traceback (most recent call last)",
            "\u001b[0;32m<ipython-input-7-ced01981d2b2>\u001b[0m in \u001b[0;36m<module>\u001b[0;34m()\u001b[0m\n\u001b[0;32m----> 1\u001b[0;31m \u001b[0mprint\u001b[0m\u001b[0;34m(\u001b[0m\u001b[0;34m\"Number in the {}th row :\"\u001b[0m \u001b[0;34m.\u001b[0m\u001b[0mformat\u001b[0m \u001b[0;34m(\u001b[0m\u001b[0midx\u001b[0m \u001b[0;34m)\u001b[0m \u001b[0;34m,\u001b[0m \u001b[0ml\u001b[0m\u001b[0;34m[\u001b[0m\u001b[0midx\u001b[0m\u001b[0;34m]\u001b[0m \u001b[0;34m)\u001b[0m\u001b[0;34m\u001b[0m\u001b[0;34m\u001b[0m\u001b[0m\n\u001b[0m",
            "\u001b[0;31mNameError\u001b[0m: name 'idx' is not defined"
          ]
        }
      ]
    },
    {
      "cell_type": "markdown",
      "metadata": {
        "id": "SjIzlTl1Avq7"
      },
      "source": [
        "##  2D Visualization using PCA \n"
      ]
    },
    {
      "cell_type": "code",
      "metadata": {
        "id": "ONXZXA2nAvq9"
      },
      "source": [
        "# Loading first 15,000 data-points to work on for time-effeciency.\n",
        "\n",
        "labels = l.head(15000)\n",
        "data = d.head(15000)\n",
        "\n",
        "print(\"the shape of sample data = \", data.shape)"
      ],
      "execution_count": null,
      "outputs": []
    },
    {
      "cell_type": "code",
      "metadata": {
        "id": "ivuGyQUYAvq_"
      },
      "source": [
        "# Data-preprocessing: Standardizing the data\n",
        "\n",
        "from sklearn.preprocessing import StandardScaler\n",
        "standardized_data = StandardScaler().fit_transform(data)\n",
        "print(\"Standardized dataset dimensions:\" ,standardized_data.shape)"
      ],
      "execution_count": null,
      "outputs": []
    },
    {
      "cell_type": "code",
      "metadata": {
        "id": "Y2ZvCR67AvrA"
      },
      "source": [
        "#Finding the co-variance matrix which is : A^T * A\n",
        "sample_data = standardized_data\n",
        "\n",
        "# matrix multiplication using numpy\n",
        "covar_matrix = np.matmul(sample_data.T , sample_data)\n",
        "\n",
        "print ( \"The shape of variance matrix = \", covar_matrix.shape)"
      ],
      "execution_count": null,
      "outputs": []
    },
    {
      "cell_type": "code",
      "metadata": {
        "id": "udN0QCg4AvrC"
      },
      "source": [
        "# Finding the top two eigen-values and corresponding eigen-vectors \n",
        "# for projecting onto a 2-Dimensional space.\n",
        "\n",
        "from scipy.linalg import eigh \n",
        "\n",
        "# the parameter 'eigvals' is defined (low value to heigh value) \n",
        "# eigh function will return the eigen values in asending order\n",
        "# this code generates only the top 2 (782 and 783) eigenvalues.\n",
        "values, vectors = eigh(covar_matrix, eigvals=(782,783))\n",
        "\n",
        "print(\"Shape of eigen vectors = \",vectors.shape)\n",
        "# converting the eigen vectors into (2,d) shape for further computations\n",
        "vectors = vectors.T\n",
        "\n",
        "print(\"Updated shape of eigen vectors = \",vectors.shape)\n",
        "# here the vectors[1] represent the eigen vector corresponding 1st principal eigen vector\n",
        "# here the vectors[0] represent the eigen vector corresponding 2nd principal eigen vector"
      ],
      "execution_count": null,
      "outputs": []
    },
    {
      "cell_type": "code",
      "metadata": {
        "id": "Nt_s-geOAvrF"
      },
      "source": [
        "# projecting the original data sample on the plane \n",
        "#formed by two principal eigen vectors by vector-vector multiplication.\n",
        "\n",
        "new_coordinates = np.matmul(vectors, sample_data.T)\n",
        "\n",
        "print (\" resultanat new data points' shape \", vectors.shape, \"X\", sample_data.T.shape,\" = \", new_coordinates.shape)"
      ],
      "execution_count": null,
      "outputs": []
    },
    {
      "cell_type": "code",
      "metadata": {
        "id": "XGaV1ARuAvrH"
      },
      "source": [
        "# Appending label to the 2d projected data\n",
        "new_coordinates = np.vstack((new_coordinates, labels)).T\n",
        "\n",
        "# creating a new pandas data frame for ploting the labeled points.\n",
        "dataframe = pd.DataFrame(data=new_coordinates, columns=(\"1st_principal\", \"2nd_principal\", \"label\"))\n",
        "print(dataframe.head())"
      ],
      "execution_count": null,
      "outputs": []
    },
    {
      "cell_type": "code",
      "metadata": {
        "id": "u_pkwoSSAvrI"
      },
      "source": [
        "# ploting the 2d data points with seaborn\n",
        "import seaborn as sn\n",
        "sn.FacetGrid(dataframe, hue=\"label\", height=7).map(plt.scatter, '1st_principal', '2nd_principal').add_legend()\n",
        "plt.show()"
      ],
      "execution_count": null,
      "outputs": []
    },
    {
      "cell_type": "markdown",
      "metadata": {
        "id": "DHG0iqmtAvrK"
      },
      "source": [
        "## 2-D visualization using PCA by Scikit-Learn"
      ]
    },
    {
      "cell_type": "code",
      "metadata": {
        "id": "IdugEIgfAvrL"
      },
      "source": [
        "from sklearn import decomposition\n",
        "pca = decomposition.PCA()"
      ],
      "execution_count": null,
      "outputs": []
    },
    {
      "cell_type": "code",
      "metadata": {
        "id": "ojiHWrJOAvrM"
      },
      "source": [
        "# configuring the parameteres\n",
        "# the number of components = 2\n",
        "pca.n_components = 2\n",
        "pca_data = pca.fit_transform(sample_data)\n",
        "\n",
        "# pca_reduced will contain the 2-d projects of simple data\n",
        "print(\"shape of pca_reduced.shape = \", pca_data.shape)"
      ],
      "execution_count": null,
      "outputs": []
    },
    {
      "cell_type": "code",
      "metadata": {
        "id": "BKMx6T0QAvrN"
      },
      "source": [
        "pca_data = np.vstack((pca_data.T, labels)).T\n",
        "\n",
        "# creating a new data fram which help us in ploting the result data\n",
        "pca_df = pd.DataFrame(data=pca_data, columns=(\"1st_principal\", \"2nd_principal\", \"label\"))\n",
        "sn.FacetGrid(pca_df, hue=\"label\", size=7).map(plt.scatter, '1st_principal', '2nd_principal').add_legend()\n",
        "plt.show()"
      ],
      "execution_count": null,
      "outputs": []
    },
    {
      "cell_type": "markdown",
      "metadata": {
        "id": "GmYidjQSAvrP"
      },
      "source": [
        "## PCA for dimensionality redcution"
      ]
    },
    {
      "cell_type": "code",
      "metadata": {
        "id": "9ebKKfCbAvrP"
      },
      "source": [
        "# PCA for dimensionality redcution \n",
        "\n",
        "pca.n_components = 784\n",
        "pca_data = pca.fit_transform(sample_data)\n",
        "\n",
        "percentage_var_explained = pca.explained_variance_ / np.sum(pca.explained_variance_);\n",
        "\n",
        "cum_var_explained = np.cumsum(percentage_var_explained)\n",
        "\n",
        "# Plot the PCA spectrum\n",
        "plt.figure(1, figsize=(8, 6))\n",
        "\n",
        "plt.clf()\n",
        "plt.plot(cum_var_explained, linewidth=2)\n",
        "plt.axis('tight')\n",
        "plt.grid()\n",
        "plt.xlabel('n_components')\n",
        "plt.ylabel('Cumulative_explained_variance')\n",
        "plt.show()\n",
        "\n"
      ],
      "execution_count": null,
      "outputs": []
    },
    {
      "cell_type": "markdown",
      "metadata": {
        "id": "Vsm8xBW2AvrQ"
      },
      "source": [
        "From the above plot, we can infer that ,if we take 200-dimensions(or components), approx. 90% of variance can be achieved."
      ]
    },
    {
      "cell_type": "markdown",
      "metadata": {
        "id": "mI0BgGyaAvrR"
      },
      "source": [
        "## t-SNE for Dimensionality Redcution and Visualisation"
      ]
    },
    {
      "cell_type": "markdown",
      "metadata": {
        "id": "5WwSh8BmAvrS"
      },
      "source": [
        "Applying t-SNE on Dataset of 3000 points with:\n",
        "Perplexity = 30\n",
        "Number of components = 2\n"
      ]
    },
    {
      "cell_type": "code",
      "metadata": {
        "id": "p8uq5A7GAvrS"
      },
      "source": [
        "# TSNE\n",
        "\n",
        "from sklearn.manifold import TSNE\n",
        "\n",
        "# Picking the top 3000 points from the dataset of 15K points\n",
        "data_3000 = standardized_data[0:3000,:]\n",
        "labels_3000 = labels[0:3000]\n",
        "\n",
        "model = TSNE(n_components=2, random_state=0)\n",
        "# configuring the parameteres\n",
        "# the number of components = 2\n",
        "# default perplexity = 30\n",
        "# default learning rate = 200\n",
        "# default Maximum number of iterations for the optimization = 3000\n",
        "\n",
        "tsne_data = model.fit_transform(data_3000)\n",
        "\n",
        "\n",
        "# creating a new data frame which help us in ploting the result data\n",
        "tsne_data = np.vstack((tsne_data.T, labels_3000)).T\n",
        "tsne_df = pd.DataFrame(data=tsne_data, columns=(\"Dim_1\", \"Dim_2\", \"label\"))\n",
        "\n",
        "# Ploting the result of tsne\n",
        "sn.FacetGrid(tsne_df, hue=\"label\", size=6).map(plt.scatter, 'Dim_1', 'Dim_2').add_legend()\n",
        "plt.show()"
      ],
      "execution_count": null,
      "outputs": []
    },
    {
      "cell_type": "markdown",
      "metadata": {
        "id": "sEvnrGVGAvrT"
      },
      "source": [
        "Applying t-SNE on Dataset of 3000 points with:\n",
        "Perplexity = 50\n",
        "Number of components = 2"
      ]
    },
    {
      "cell_type": "code",
      "metadata": {
        "id": "Q4wmiqhwAvrU"
      },
      "source": [
        "model = TSNE(n_components=2, random_state=0, perplexity=50)\n",
        "tsne_data = model.fit_transform(data_3000) \n",
        "\n",
        "# creating a new data fram which help us in ploting the result data\n",
        "tsne_data = np.vstack((tsne_data.T, labels_3000)).T\n",
        "tsne_df = pd.DataFrame(data=tsne_data, columns=(\"Dim_1\", \"Dim_2\", \"label\"))\n",
        "\n",
        "# Ploting the result of tsne\n",
        "sn.FacetGrid(tsne_df, hue=\"label\", size=6).map(plt.scatter, 'Dim_1', 'Dim_2').add_legend()\n",
        "plt.title('With perplexity = 50')\n",
        "plt.show()"
      ],
      "execution_count": null,
      "outputs": []
    },
    {
      "cell_type": "markdown",
      "metadata": {
        "id": "xuSzFqKLAvrV"
      },
      "source": [
        "Applying t-SNE on Dataset of 3000 points with:\n",
        "Perplexity = 50\n",
        "Number of components = 2\n",
        "Number of step/iterations = 5000"
      ]
    },
    {
      "cell_type": "code",
      "metadata": {
        "id": "r9zvvbqNAvrV"
      },
      "source": [
        "model = TSNE(n_components=2, random_state=0, perplexity=50,  n_iter=5000)\n",
        "tsne_data = model.fit_transform(data_3000) \n",
        "\n",
        "# creating a new data fram which help us in ploting the result data\n",
        "tsne_data = np.vstack((tsne_data.T, labels_3000)).T\n",
        "tsne_df = pd.DataFrame(data=tsne_data, columns=(\"Dim_1\", \"Dim_2\", \"label\"))\n",
        "\n",
        "# Ploting the result of tsne\n",
        "sn.FacetGrid(tsne_df, hue=\"label\", size=6).map(plt.scatter, 'Dim_1', 'Dim_2').add_legend()\n",
        "plt.title('With perplexity = 50, n_iter=5000')\n",
        "plt.show()"
      ],
      "execution_count": null,
      "outputs": []
    },
    {
      "cell_type": "markdown",
      "metadata": {
        "id": "CHoJ0VsfAvrW"
      },
      "source": [
        "Applying t-SNE on Dataset of 3000 points with:\n",
        "Perplexity = 2\n",
        "Number of components = 2"
      ]
    },
    {
      "cell_type": "code",
      "metadata": {
        "id": "90ppPJTcAvrX"
      },
      "source": [
        "model = TSNE(n_components=2, random_state=0, perplexity=2)\n",
        "tsne_data = model.fit_transform(data_3000) \n",
        "\n",
        "# creating a new data fram which help us in ploting the result data\n",
        "tsne_data = np.vstack((tsne_data.T, labels_3000)).T\n",
        "tsne_df = pd.DataFrame(data=tsne_data, columns=(\"Dim_1\", \"Dim_2\", \"label\"))\n",
        "\n",
        "# Ploting the result of tsne\n",
        "sn.FacetGrid(tsne_df, hue=\"label\", size=6).map(plt.scatter, 'Dim_1', 'Dim_2').add_legend()\n",
        "plt.title('With perplexity = 2')\n",
        "plt.show()"
      ],
      "execution_count": null,
      "outputs": []
    },
    {
      "cell_type": "code",
      "metadata": {
        "id": "GxV9PGjgAvrY"
      },
      "source": [
        ""
      ],
      "execution_count": null,
      "outputs": []
    }
  ]
}